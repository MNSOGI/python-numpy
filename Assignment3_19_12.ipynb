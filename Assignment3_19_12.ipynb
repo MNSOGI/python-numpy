{
  "nbformat": 4,
  "nbformat_minor": 0,
  "metadata": {
    "colab": {
      "provenance": []
    },
    "kernelspec": {
      "name": "python3",
      "display_name": "Python 3"
    },
    "language_info": {
      "name": "python"
    }
  },
  "cells": [
    {
      "cell_type": "code",
      "execution_count": 3,
      "metadata": {
        "id": "L7ixCmD0Gs3K"
      },
      "outputs": [],
      "source": [
        "log_data = \"\"\"2024-12-18 10:15:32 INFO User logged in\n",
        "2024-12-18 10:16:02 ERROR Page not found\n",
        "2024-12-18 10:17:20 INFO Data uploaded successfully\n",
        "2024-12-18 11:00:01 ERROR Service unavailable\n",
        "2024-12-18 11:15:10 INFO Backup completed\n",
        "2024-12-18 12:25:30 INFO User logged out\"\"\"\n",
        "\n",
        "with open('logfile.txt', 'w') as f:\n",
        "    f.write(log_data)\n"
      ]
    },
    {
      "cell_type": "code",
      "source": [
        "from pyspark.sql import SparkSession\n",
        "\n",
        "spark = SparkSession.builder.appName(\"Log Analysis\").getOrCreate()\n",
        "\n",
        "log_df = spark.read.text(\"logfile.txt\")\n",
        "log_df.show(truncate=False)\n"
      ],
      "metadata": {
        "colab": {
          "base_uri": "https://localhost:8080/"
        },
        "id": "R6aggVl5Gwm-",
        "outputId": "8b53939e-6a63-45b1-dc8e-b530a40a6228"
      },
      "execution_count": 2,
      "outputs": [
        {
          "output_type": "stream",
          "name": "stdout",
          "text": [
            "+---------------------------------------------------+\n",
            "|value                                              |\n",
            "+---------------------------------------------------+\n",
            "|2024-12-18 10:15:32 INFO User logged in            |\n",
            "|2024-12-18 10:16:02 ERROR Page not found           |\n",
            "|2024-12-18 10:17:20 INFO Data uploaded successfully|\n",
            "|2024-12-18 11:00:01 ERROR Service unavailable      |\n",
            "|2024-12-18 11:15:10 INFO Backup completed          |\n",
            "|2024-12-18 12:25:30 INFO User logged out           |\n",
            "+---------------------------------------------------+\n",
            "\n"
          ]
        }
      ]
    },
    {
      "cell_type": "code",
      "source": [
        "from pyspark.sql.functions import regexp_extract\n",
        "log_df = log_df.withColumn(\"timestamp\", regexp_extract(\"value\", r'^([\\d-]+\\s[\\d:]+)', 1)) \\\n",
        "               .withColumn(\"log_level\", regexp_extract(\"value\", r'\\s(INFO|ERROR|DEBUG|WARN)\\s', 1)) \\\n",
        "               .withColumn(\"message\", regexp_extract(\"value\", r'\\s(INFO|ERROR|DEBUG|WARN)\\s(.+)', 2))\n",
        "\n",
        "log_df.select(\"timestamp\", \"log_level\", \"message\").show(truncate=False)\n"
      ],
      "metadata": {
        "colab": {
          "base_uri": "https://localhost:8080/"
        },
        "id": "YNIu9g-cGxR-",
        "outputId": "6b8e5961-55a0-480a-c0ce-5ea1e4f0d75e"
      },
      "execution_count": 4,
      "outputs": [
        {
          "output_type": "stream",
          "name": "stdout",
          "text": [
            "+-------------------+---------+--------------------------+\n",
            "|timestamp          |log_level|message                   |\n",
            "+-------------------+---------+--------------------------+\n",
            "|2024-12-18 10:15:32|INFO     |User logged in            |\n",
            "|2024-12-18 10:16:02|ERROR    |Page not found            |\n",
            "|2024-12-18 10:17:20|INFO     |Data uploaded successfully|\n",
            "|2024-12-18 11:00:01|ERROR    |Service unavailable       |\n",
            "|2024-12-18 11:15:10|INFO     |Backup completed          |\n",
            "|2024-12-18 12:25:30|INFO     |User logged out           |\n",
            "+-------------------+---------+--------------------------+\n",
            "\n"
          ]
        }
      ]
    },
    {
      "cell_type": "code",
      "source": [
        "log_level_count = log_df.groupBy(\"log_level\").count()\n",
        "log_level_count.show()\n"
      ],
      "metadata": {
        "colab": {
          "base_uri": "https://localhost:8080/"
        },
        "id": "aYagFoMKG1h5",
        "outputId": "37b8e564-a6ce-4459-81ce-a3aa9fd3ee4f"
      },
      "execution_count": 5,
      "outputs": [
        {
          "output_type": "stream",
          "name": "stdout",
          "text": [
            "+---------+-----+\n",
            "|log_level|count|\n",
            "+---------+-----+\n",
            "|     INFO|    4|\n",
            "|    ERROR|    2|\n",
            "+---------+-----+\n",
            "\n"
          ]
        }
      ]
    },
    {
      "cell_type": "code",
      "source": [
        "error_logs = log_df.filter(log_df.log_level == \"ERROR\")\n",
        "error_logs.show(truncate=False)\n"
      ],
      "metadata": {
        "colab": {
          "base_uri": "https://localhost:8080/"
        },
        "id": "2zvOiR1iG3K7",
        "outputId": "df16591e-bc48-4cb7-d7ef-f8f117f24cd8"
      },
      "execution_count": 6,
      "outputs": [
        {
          "output_type": "stream",
          "name": "stdout",
          "text": [
            "+---------------------------------------------+-------------------+---------+-------------------+\n",
            "|value                                        |timestamp          |log_level|message            |\n",
            "+---------------------------------------------+-------------------+---------+-------------------+\n",
            "|2024-12-18 10:16:02 ERROR Page not found     |2024-12-18 10:16:02|ERROR    |Page not found     |\n",
            "|2024-12-18 11:00:01 ERROR Service unavailable|2024-12-18 11:00:01|ERROR    |Service unavailable|\n",
            "+---------------------------------------------+-------------------+---------+-------------------+\n",
            "\n"
          ]
        }
      ]
    },
    {
      "cell_type": "code",
      "source": [
        "from pyspark.sql.functions import hour\n",
        "\n",
        "hourly_logs = log_df.withColumn(\"hour\", hour(\"timestamp\")) \\\n",
        "                    .groupBy(\"hour\").count()\n",
        "\n",
        "hourly_logs.show()\n"
      ],
      "metadata": {
        "colab": {
          "base_uri": "https://localhost:8080/"
        },
        "id": "l_wYYRmgG6QU",
        "outputId": "a661ca04-5b53-4eae-e381-c6190ef0f5dc"
      },
      "execution_count": 7,
      "outputs": [
        {
          "output_type": "stream",
          "name": "stdout",
          "text": [
            "+----+-----+\n",
            "|hour|count|\n",
            "+----+-----+\n",
            "|  12|    1|\n",
            "|  10|    3|\n",
            "|  11|    2|\n",
            "+----+-----+\n",
            "\n"
          ]
        }
      ]
    },
    {
      "cell_type": "code",
      "source": [
        "import matplotlib.pyplot as plt\n",
        "\n",
        "hourly_data = hourly_logs.collect()\n",
        "hours = [row['hour'] for row in hourly_data]\n",
        "counts = [row['count'] for row in hourly_data]\n",
        "\n",
        "plt.bar(hours, counts, color='skyblue')\n",
        "plt.xlabel('Hour of the Day')\n",
        "plt.ylabel('Log Count')\n",
        "plt.title('Logs Count Per Hour')\n",
        "plt.xticks(range(0, 24))\n",
        "plt.grid(axis='y', linestyle='--', alpha=0.7)\n",
        "plt.show()\n"
      ],
      "metadata": {
        "colab": {
          "base_uri": "https://localhost:8080/",
          "height": 472
        },
        "id": "yUs4GCIwG9SS",
        "outputId": "d6ed13e3-ec88-491a-e981-9d872ec8c922"
      },
      "execution_count": 8,
      "outputs": [
        {
          "output_type": "display_data",
          "data": {
            "text/plain": [
              "<Figure size 640x480 with 1 Axes>"
            ],
            "image/png": "[encoded data removed]"
          },
          "metadata": {}
        }
      ]
    }
  ]
}