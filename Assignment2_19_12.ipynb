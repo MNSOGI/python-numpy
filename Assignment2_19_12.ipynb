{
  "nbformat": 4,
  "nbformat_minor": 0,
  "metadata": {
    "colab": {
      "provenance": []
    },
    "kernelspec": {
      "name": "python3",
      "display_name": "Python 3"
    },
    "language_info": {
      "name": "python"
    }
  },
  "cells": [
    {
      "cell_type": "code",
      "execution_count": 1,
      "metadata": {
        "id": "sQEIZEXyJd7U"
      },
      "outputs": [],
      "source": [
        "trip_data = [\n",
        "    (1, \"2024-12-18 10:00:00\", \"2024-12-18 10:30:00\", 15.0, 30.0),\n",
        "    (2, \"2024-12-18 11:00:00\", \"2024-12-18 11:20:00\", 10.0, 20.0),\n",
        "    (3, \"2024-12-18 12:00:00\", \"2024-12-18 12:45:00\", 20.0, 40.0),\n",
        "    (4, \"2024-12-18 13:30:00\", \"2024-12-18 14:15:00\", 25.0, 50.0),\n",
        "    (5, \"2024-12-18 14:00:00\", \"2024-12-18 14:40:00\", 18.0, 36.0),\n",
        "]\n",
        "\n",
        "columns = [\"TripID\", \"StartTime\", \"EndTime\", \"Distance\", \"Fare\"]\n",
        "\n",
        "import pandas as pd\n",
        "\n",
        "trip_df = pd.DataFrame(trip_data, columns=columns)\n",
        "trip_df.to_csv(\"trip_data.csv\", index=False)\n"
      ]
    },
    {
      "cell_type": "code",
      "source": [
        "from pyspark.sql import SparkSession\n",
        "spark = SparkSession.builder.appName(\"Trip Data Analysis\").getOrCreate()\n",
        "\n",
        "trip_df = spark.read.csv(\"trip_data.csv\", header=True, inferSchema=True)\n",
        "trip_df.show()"
      ],
      "metadata": {
        "colab": {
          "base_uri": "https://localhost:8080/"
        },
        "id": "-AGfiBGLJlJU",
        "outputId": "99521663-ee35-44ea-8110-80a388f5e1fe"
      },
      "execution_count": 2,
      "outputs": [
        {
          "output_type": "stream",
          "name": "stdout",
          "text": [
            "+------+-------------------+-------------------+--------+----+\n",
            "|TripID|          StartTime|            EndTime|Distance|Fare|\n",
            "+------+-------------------+-------------------+--------+----+\n",
            "|     1|2024-12-18 10:00:00|2024-12-18 10:30:00|    15.0|30.0|\n",
            "|     2|2024-12-18 11:00:00|2024-12-18 11:20:00|    10.0|20.0|\n",
            "|     3|2024-12-18 12:00:00|2024-12-18 12:45:00|    20.0|40.0|\n",
            "|     4|2024-12-18 13:30:00|2024-12-18 14:15:00|    25.0|50.0|\n",
            "|     5|2024-12-18 14:00:00|2024-12-18 14:40:00|    18.0|36.0|\n",
            "+------+-------------------+-------------------+--------+----+\n",
            "\n"
          ]
        }
      ]
    },
    {
      "cell_type": "code",
      "source": [
        "from pyspark.sql.functions import unix_timestamp, col\n",
        "\n",
        "trip_df = trip_df.withColumn(\n",
        "    \"TripDuration\",\n",
        "    (unix_timestamp(\"EndTime\") - unix_timestamp(\"StartTime\")) / 60\n",
        ")\n",
        "trip_df.select(\"TripID\", \"TripDuration\").show()"
      ],
      "metadata": {
        "colab": {
          "base_uri": "https://localhost:8080/"
        },
        "id": "IOQyhdNMJrNI",
        "outputId": "c5b2ae6b-7afa-4606-c64d-295fe6886b00"
      },
      "execution_count": 3,
      "outputs": [
        {
          "output_type": "stream",
          "name": "stdout",
          "text": [
            "+------+------------+\n",
            "|TripID|TripDuration|\n",
            "+------+------------+\n",
            "|     1|        30.0|\n",
            "|     2|        20.0|\n",
            "|     3|        45.0|\n",
            "|     4|        45.0|\n",
            "|     5|        40.0|\n",
            "+------+------------+\n",
            "\n"
          ]
        }
      ]
    },
    {
      "cell_type": "code",
      "source": [
        "average_fare_per_mile = trip_df.withColumn(\"FarePerMile\", col(\"Fare\") / col(\"Distance\")) \\\n",
        "                               .select(\"FarePerMile\").agg({\"FarePerMile\": \"avg\"}).first()[0]\n",
        "\n",
        "print(f\"Average Fare per Mile: {average_fare_per_mile:.2f}\")"
      ],
      "metadata": {
        "colab": {
          "base_uri": "https://localhost:8080/"
        },
        "id": "_2l25H5MJtqH",
        "outputId": "e8cbd0eb-032b-4e80-e69b-fae56d76675a"
      },
      "execution_count": 4,
      "outputs": [
        {
          "output_type": "stream",
          "name": "stdout",
          "text": [
            "Average Fare per Mile: 2.00\n"
          ]
        }
      ]
    },
    {
      "cell_type": "code",
      "source": [
        "top_longest_trips = trip_df.orderBy(col(\"Distance\").desc()).limit(3)\n",
        "top_longest_trips.show()"
      ],
      "metadata": {
        "colab": {
          "base_uri": "https://localhost:8080/"
        },
        "id": "TEbu9aavJwUL",
        "outputId": "d733b99d-a9de-4746-fdc8-70f6ecf57ec0"
      },
      "execution_count": 5,
      "outputs": [
        {
          "output_type": "stream",
          "name": "stdout",
          "text": [
            "+------+-------------------+-------------------+--------+----+------------+\n",
            "|TripID|          StartTime|            EndTime|Distance|Fare|TripDuration|\n",
            "+------+-------------------+-------------------+--------+----+------------+\n",
            "|     4|2024-12-18 13:30:00|2024-12-18 14:15:00|    25.0|50.0|        45.0|\n",
            "|     3|2024-12-18 12:00:00|2024-12-18 12:45:00|    20.0|40.0|        45.0|\n",
            "|     5|2024-12-18 14:00:00|2024-12-18 14:40:00|    18.0|36.0|        40.0|\n",
            "+------+-------------------+-------------------+--------+----+------------+\n",
            "\n"
          ]
        }
      ]
    },
    {
      "cell_type": "code",
      "source": [
        "from pyspark.sql.functions import hour\n",
        "\n",
        "trip_hourly = trip_df.withColumn(\"Hour\", hour(\"StartTime\")) \\\n",
        "                     .groupBy(\"Hour\").count()\n",
        "\n",
        "trip_hourly.show()"
      ],
      "metadata": {
        "colab": {
          "base_uri": "https://localhost:8080/"
        },
        "id": "WKuWpdKEJx6G",
        "outputId": "c1a09b5f-a5ee-4364-8b5d-0d2bc339945f"
      },
      "execution_count": 6,
      "outputs": [
        {
          "output_type": "stream",
          "name": "stdout",
          "text": [
            "+----+-----+\n",
            "|Hour|count|\n",
            "+----+-----+\n",
            "|  12|    1|\n",
            "|  13|    1|\n",
            "|  10|    1|\n",
            "|  11|    1|\n",
            "|  14|    1|\n",
            "+----+-----+\n",
            "\n"
          ]
        }
      ]
    },
    {
      "cell_type": "code",
      "source": [
        "import matplotlib.pyplot as plt\n",
        "\n",
        "hourly_data = trip_hourly.collect()\n",
        "hours = [row['Hour'] for row in hourly_data]\n",
        "trip_counts = [row['count'] for row in hourly_data]\n",
        "\n",
        "plt.bar(hours, trip_counts, color='skyblue')\n",
        "plt.xlabel('Hour of the Day')\n",
        "plt.ylabel('Number of Trips')\n",
        "plt.title('Number of Trips Per Hour')\n",
        "plt.xticks(range(0, 24))\n",
        "plt.grid(axis='y', linestyle='--', alpha=0.7)\n",
        "plt.show()"
      ],
      "metadata": {
        "colab": {
          "base_uri": "https://localhost:8080/",
          "height": 472
        },
        "id": "MkDKqEzGJ4Cn",
        "outputId": "5412f3d7-09f5-48f8-d18a-4c930f258887"
      },
      "execution_count": 7,
      "outputs": [
        {
          "output_type": "display_data",
          "data": {
            "text/plain": [
              "<Figure size 640x480 with 1 Axes>"
            ],
            "image/png": "[encoded data removed]"
          },
          "metadata": {}
        }
      ]
    }
  ]
}