{
 "cells": [
  {
   "cell_type": "code",
   "execution_count": 3,
   "metadata": {},
   "outputs": [
    {
     "name": "stdout",
     "output_type": "stream",
     "text": [
      "root\n",
      " |-- InvoiceNo: integer (nullable = true)\n",
      " |-- StockCode: string (nullable = true)\n",
      " |-- Description: string (nullable = true)\n",
      " |-- Quantity: integer (nullable = true)\n",
      " |-- InvoiceDate: timestamp (nullable = true)\n",
      " |-- UnitPrice: double (nullable = true)\n",
      " |-- CustomerID: integer (nullable = true)\n",
      " |-- Country: string (nullable = true)\n",
      "\n",
      "+---------+---------+--------------------+--------+-------------------+---------+----------+--------------+\n",
      "|InvoiceNo|StockCode|         Description|Quantity|        InvoiceDate|UnitPrice|CustomerID|       Country|\n",
      "+---------+---------+--------------------+--------+-------------------+---------+----------+--------------+\n",
      "|   536365|   85123A|WHITE HANGING HEA...|       6|2024-01-01 08:26:00|     2.55|     17850|United Kingdom|\n",
      "|   536366|    71053| WHITE METAL LANTERN|       6|2024-01-01 08:28:00|     3.39|     17850|United Kingdom|\n",
      "|   536367|   84406B|CREAM CUPID HEART...|       8|2024-01-01 08:34:00|     2.75|     13047|        France|\n",
      "|   536368|   84029G|KNITTED UNION FLA...|       6|2024-01-01 08:35:00|     3.39|     13047|        France|\n",
      "|   536369|   85123A|RED WOOLLY HOTTIE...|       6|2024-01-01 08:45:00|     3.39|     17850|United Kingdom|\n",
      "+---------+---------+--------------------+--------+-------------------+---------+----------+--------------+\n",
      "\n"
     ]
    }
   ],
   "source": [
    "from pyspark.sql import SparkSession\n",
    "\n",
    "spark = SparkSession.builder.appName(\"Sales Data Analysis\").getOrCreate()\n",
    "\n",
    "# Load the dataset\n",
    "file_path = \"Online_Retail.csv\"\n",
    "df = spark.read.csv(file_path, header=True, inferSchema=True)\n",
    "df.printSchema()\n",
    "df.show(10)"
   ]
  },
  {
   "cell_type": "code",
   "execution_count": 5,
   "metadata": {},
   "outputs": [
    {
     "name": "stdout",
     "output_type": "stream",
     "text": [
      "+---------+---------+--------------------+--------+-------------------+---------+----------+--------------+\n",
      "|InvoiceNo|StockCode|         Description|Quantity|        InvoiceDate|UnitPrice|CustomerID|       Country|\n",
      "+---------+---------+--------------------+--------+-------------------+---------+----------+--------------+\n",
      "|   536366|    71053| WHITE METAL LANTERN|       6|2024-01-01 08:28:00|     3.39|     17850|United Kingdom|\n",
      "|   536368|   84029G|KNITTED UNION FLA...|       6|2024-01-01 08:35:00|     3.39|     13047|        France|\n",
      "|   536365|   85123A|WHITE HANGING HEA...|       6|2024-01-01 08:26:00|     2.55|     17850|United Kingdom|\n",
      "|   536367|   84406B|CREAM CUPID HEART...|       8|2024-01-01 08:34:00|     2.75|     13047|        France|\n",
      "|   536369|   85123A|RED WOOLLY HOTTIE...|       6|2024-01-01 08:45:00|     3.39|     17850|United Kingdom|\n",
      "+---------+---------+--------------------+--------+-------------------+---------+----------+--------------+\n",
      "\n"
     ]
    }
   ],
   "source": [
    "df = df.dropDuplicates()\n",
    "\n",
    "df = df.dropna(subset=[\"InvoiceNo\", \"StockCode\", \"CustomerID\"])\n",
    "\n",
    "df.show(5)\n"
   ]
  },
  {
   "cell_type": "code",
   "execution_count": 6,
   "metadata": {},
   "outputs": [
    {
     "name": "stdout",
     "output_type": "stream",
     "text": [
      "+---------+---------+--------------------+--------+-------------------+---------+----------+--------------+------------------+\n",
      "|InvoiceNo|StockCode|         Description|Quantity|        InvoiceDate|UnitPrice|CustomerID|       Country|        TotalPrice|\n",
      "+---------+---------+--------------------+--------+-------------------+---------+----------+--------------+------------------+\n",
      "|   536366|    71053| WHITE METAL LANTERN|       6|2024-01-01 08:28:00|     3.39|     17850|United Kingdom|             20.34|\n",
      "|   536368|   84029G|KNITTED UNION FLA...|       6|2024-01-01 08:35:00|     3.39|     13047|        France|             20.34|\n",
      "|   536365|   85123A|WHITE HANGING HEA...|       6|2024-01-01 08:26:00|     2.55|     17850|United Kingdom|15.299999999999999|\n",
      "|   536367|   84406B|CREAM CUPID HEART...|       8|2024-01-01 08:34:00|     2.75|     13047|        France|              22.0|\n",
      "|   536369|   85123A|RED WOOLLY HOTTIE...|       6|2024-01-01 08:45:00|     3.39|     17850|United Kingdom|             20.34|\n",
      "+---------+---------+--------------------+--------+-------------------+---------+----------+--------------+------------------+\n",
      "\n"
     ]
    }
   ],
   "source": [
    "from pyspark.sql.functions import col\n",
    "\n",
    "df = df.withColumn(\"TotalPrice\", col(\"Quantity\") * col(\"UnitPrice\"))\n",
    "\n",
    "df = df.withColumn(\"InvoiceDate\", col(\"InvoiceDate\").cast(\"timestamp\"))\n",
    "\n",
    "df.show(5)\n"
   ]
  },
  {
   "cell_type": "code",
   "execution_count": 7,
   "metadata": {},
   "outputs": [
    {
     "name": "stdout",
     "output_type": "stream",
     "text": [
      "+------------+\n",
      "|TotalRevenue|\n",
      "+------------+\n",
      "|       98.32|\n",
      "+------------+\n",
      "\n"
     ]
    }
   ],
   "source": [
    "from pyspark.sql.functions import sum\n",
    "\n",
    "#total revenue\n",
    "total_revenue = df.agg(sum(\"TotalPrice\").alias(\"TotalRevenue\"))\n",
    "total_revenue.show()\n"
   ]
  },
  {
   "cell_type": "code",
   "execution_count": 8,
   "metadata": {},
   "outputs": [
    {
     "name": "stdout",
     "output_type": "stream",
     "text": [
      "+--------------+-------------+\n",
      "|       Country|TotalQuantity|\n",
      "+--------------+-------------+\n",
      "|        France|           14|\n",
      "|United Kingdom|           18|\n",
      "+--------------+-------------+\n",
      "\n"
     ]
    }
   ],
   "source": [
    "quantity_by_country = df.groupBy(\"Country\").agg(sum(\"Quantity\").alias(\"TotalQuantity\"))\n",
    "quantity_by_country.show()\n"
   ]
  },
  {
   "cell_type": "code",
   "execution_count": 9,
   "metadata": {},
   "outputs": [
    {
     "name": "stdout",
     "output_type": "stream",
     "text": [
      "+---------+------------+\n",
      "|StockCode|TotalRevenue|\n",
      "+---------+------------+\n",
      "|   85123A|       35.64|\n",
      "|   84406B|        22.0|\n",
      "|    71053|       20.34|\n",
      "|   84029G|       20.34|\n",
      "+---------+------------+\n",
      "\n"
     ]
    }
   ],
   "source": [
    "from pyspark.sql.functions import desc\n",
    "\n",
    "#top 5 products with the highest revenue\n",
    "top_products = df.groupBy(\"StockCode\").agg(sum(\"TotalPrice\").alias(\"TotalRevenue\")) \\\n",
    "    .orderBy(desc(\"TotalRevenue\")).limit(5)\n",
    "top_products.show()\n"
   ]
  },
  {
   "cell_type": "code",
   "execution_count": 10,
   "metadata": {},
   "outputs": [
    {
     "name": "stdout",
     "output_type": "stream",
     "text": [
      "+----------+------------------+\n",
      "|CustomerID|     TotalSpending|\n",
      "+----------+------------------+\n",
      "|     17850|55.980000000000004|\n",
      "+----------+------------------+\n",
      "\n"
     ]
    }
   ],
   "source": [
    "# customer who spent the most\n",
    "top_customer = df.groupBy(\"CustomerID\").agg(sum(\"TotalPrice\").alias(\"TotalSpending\")) \\\n",
    "    .orderBy(desc(\"TotalSpending\")).limit(1)\n",
    "top_customer.show()\n"
   ]
  },
  {
   "cell_type": "code",
   "execution_count": 11,
   "metadata": {},
   "outputs": [
    {
     "name": "stdout",
     "output_type": "stream",
     "text": [
      "+--------------+------------------+\n",
      "|       Country|    CountryRevenue|\n",
      "+--------------+------------------+\n",
      "|United Kingdom|55.980000000000004|\n",
      "+--------------+------------------+\n",
      "\n"
     ]
    }
   ],
   "source": [
    "# country with highest revenue\n",
    "top_country = df.groupBy(\"Country\").agg(sum(\"TotalPrice\").alias(\"CountryRevenue\")) \\\n",
    "    .orderBy(desc(\"CountryRevenue\")).limit(1)\n",
    "top_country.show()\n"
   ]
  },
  {
   "cell_type": "code",
   "execution_count": 12,
   "metadata": {},
   "outputs": [],
   "source": [
    "# Save transformed dataset to Parquet\n",
    "df.write.parquet(\"transformed_sales.parquet\")\n",
    "\n",
    "# Save top products to CSV\n",
    "top_products.write.csv(\"top_products.csv\", header=True)\n"
   ]
  }
 ],
 "metadata": {
  "kernelspec": {
   "display_name": "Python 3",
   "language": "python",
   "name": "python3"
  },
  "language_info": {
   "codemirror_mode": {
    "name": "ipython",
    "version": 3
   },
   "file_extension": ".py",
   "mimetype": "text/x-python",
   "name": "python",
   "nbconvert_exporter": "python",
   "pygments_lexer": "ipython3",
   "version": "3.11.4"
  }
 },
 "nbformat": 4,
 "nbformat_minor": 2
}
